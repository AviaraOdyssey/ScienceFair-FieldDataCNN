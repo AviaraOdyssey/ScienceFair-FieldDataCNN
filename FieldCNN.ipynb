{
  "nbformat": 4,
  "nbformat_minor": 0,
  "metadata": {
    "colab": {
      "provenance": [],
      "authorship_tag": "ABX9TyNwuJqpgmaL1gKWX1cGtHj4",
      "include_colab_link": true
    },
    "kernelspec": {
      "name": "python3",
      "display_name": "Python 3"
    },
    "language_info": {
      "name": "python"
    }
  },
  "cells": [
    {
      "cell_type": "markdown",
      "metadata": {
        "id": "view-in-github",
        "colab_type": "text"
      },
      "source": [
        "<a href=\"https://colab.research.google.com/github/AviaraOdyssey/ScienceFair-FieldDataCNN/blob/main/FieldCNN.ipynb\" target=\"_parent\"><img src=\"https://colab.research.google.com/assets/colab-badge.svg\" alt=\"Open In Colab\"/></a>"
      ]
    },
    {
      "cell_type": "code",
      "execution_count": null,
      "metadata": {
        "id": "-kVDUS1_gH8S"
      },
      "outputs": [],
      "source": [
        "from tensorflow.keras.preprocessing.image import ImageDataGenerator\n",
        "from tensorflow.keras.preprocessing import image\n",
        "from tensorflow.keras.optimizers import RMSprop\n",
        "from sklearn.metrics import ConfusionMatrixDisplay\n",
        "from sklearn.metrics import classification_report, confusion_matrix\n",
        "from tensorflow.keras.callbacks import EarlyStopping\n",
        "from tensorflow.keras import datasets, layers, models\n",
        "import matplotlib.pyplot as plt\n",
        "import tensorflow as tf\n",
        "from tensorflow import keras\n",
        "from tensorflow.keras import layers, models\n",
        "import numpy as py\n",
        "import cv2\n",
        "import os\n"
      ]
    },
    {
      "cell_type": "code",
      "source": [
        "tf.random.set_seed(0)"
      ],
      "metadata": {
        "id": "FZfJ8rUygOVk"
      },
      "execution_count": null,
      "outputs": []
    },
    {
      "cell_type": "code",
      "source": [
        "from google.colab import drive\n",
        "import os\n",
        "\n",
        "# Mount Google Drive\n",
        "drive.mount('/gdrive', force_remount=True)\n",
        "\n"
      ],
      "metadata": {
        "id": "u5eK6DA_gOTp"
      },
      "execution_count": null,
      "outputs": []
    },
    {
      "cell_type": "code",
      "source": [
        "# Location of Zip File\n",
        "drive_path = '/gdrive/MyDrive/DataField/data.zip'\n",
        "local_path = '/content'\n",
        "\n",
        "# Copy the zip file and move it up one level (AKA out of the drive folder)\n",
        "!cp '{drive_path}' .\n",
        "\n",
        "# Navigate to the copied file and unzip it quietly\n",
        "os.chdir(local_path)\n",
        "!unzip -q 'data.zip'"
      ],
      "metadata": {
        "id": "27lEdlz1gORX"
      },
      "execution_count": null,
      "outputs": []
    },
    {
      "cell_type": "code",
      "source": [
        "# Create data generators\n",
        "# File path = path to test folders respectively\n",
        "# Use a target size of 200x200 px for each image \n",
        "# Batch size = total number of images in the test set \n",
        "# Ensure class_mode is binary\n",
        "test_generator = ImageDataGenerator(rescale=1./255).flow_from_directory(\n",
        "                                                   '/content/FieldData/testing',\n",
        "                                                     target_size=(200, 200),\n",
        "                                                     batch_size=52,\n",
        "                                                     class_mode='binary',\n",
        "                                                    \n",
        "                                                   )"
      ],
      "metadata": {
        "id": "zVgFJo9ggOO3"
      },
      "execution_count": null,
      "outputs": []
    },
    {
      "cell_type": "code",
      "source": [
        "# Create data generators\n",
        "# File path = path to train folders respectively\n",
        "# Use a target size of 200x200 px for each image \n",
        "# Batch size = total number of images in the train set \n",
        "# Ensure class_mode is binary\n",
        "train_generator = ImageDataGenerator(rescale=1./255).flow_from_directory(\n",
        "                                                    '/content/FieldData/training',\n",
        "                                                     target_size=(200, 200),\n",
        "                                                     batch_size=77,\n",
        "                                                     class_mode='binary',\n",
        "                                                     subset = 'training'\n",
        "                                                     )\n",
        "\n",
        "# Iterate through each generator to create the data sets with the train/test splits\n",
        "X_train, y_train = next(train_generator)\n",
        "X_test, y_test = next(test_generator)\n",
        "\n",
        "# Check which class is which\n",
        "train_generator.class_indices"
      ],
      "metadata": {
        "id": "0RSkyc1ygOMz"
      },
      "execution_count": null,
      "outputs": []
    },
    {
      "cell_type": "code",
      "source": [
        "#To verify that the dataset looks correct, plot the first 25 images from the training set and display the class name below each image\n",
        "class_names = ['healthy', 'nematodes']\n",
        "\n",
        "plt.figure(figsize=(10,10))\n",
        "for i in range(25):\n",
        "    plt.subplot(5,5,i+1)\n",
        "    plt.xticks([])\n",
        "    plt.yticks([])\n",
        "    plt.grid(False)\n",
        "    plt.imshow(X_train[i])\n",
        "plt.show()\n",
        "y_train"
      ],
      "metadata": {
        "id": "eSDWzVA-gOKo"
      },
      "execution_count": null,
      "outputs": []
    },
    {
      "cell_type": "code",
      "source": [
        "#Building the CNN Model\n",
        "#Initialize model through Sequential module\n",
        "#Implementation of Convolutional Neural network through Conv2D and MaxPooling2D Layers \n",
        "#Tensors of shape (image_height, image_width, color_channels)\n",
        "model = models.Sequential()\n",
        "model.add(layers.Conv2D(32, (3, 3), activation='relu', input_shape=(200, 200, 3)))\n",
        "model.add(layers.MaxPooling2D((2, 2)))\n",
        "model.add(layers.Conv2D(64, (3, 3), activation='relu'))\n",
        "model.add(layers.MaxPooling2D((2, 2)))\n",
        "model.add(layers.Conv2D(64, (3, 3), activation='relu'))"
      ],
      "metadata": {
        "id": "TYEQVXbygOIy"
      },
      "execution_count": null,
      "outputs": []
    },
    {
      "cell_type": "code",
      "source": [
        "#Flatten Step: Convert MaxPooling2D into single continuous linear vector for input node of fully connected layers\n",
        "#Dense Layer: Utilized to make a hidden layer where every neuron is connected to every neuron in the next layer (to perform classification).\n",
        "model.add(layers.Flatten())\n",
        "model.add(layers.Dense(64, activation='relu'))\n",
        "model.add(layers.Dense(10))"
      ],
      "metadata": {
        "id": "3suh23L0gOGu"
      },
      "execution_count": null,
      "outputs": []
    },
    {
      "cell_type": "code",
      "source": [
        "model.summary()"
      ],
      "metadata": {
        "id": "oH_FO9rCgOEt"
      },
      "execution_count": null,
      "outputs": []
    },
    {
      "cell_type": "code",
      "source": [
        "#Method to stop overfitting of the model\n",
        "early_stop = EarlyStopping(monitor='val_loss', patience=2)"
      ],
      "metadata": {
        "id": "eGwJD1dzgOAj"
      },
      "execution_count": null,
      "outputs": []
    },
    {
      "cell_type": "code",
      "source": [
        "#Compile and train the CNN model\n",
        "model.compile(optimizer='adam',\n",
        "              loss=tf.keras.losses.SparseCategoricalCrossentropy(from_logits=True),\n",
        "              metrics=['accuracy'])\n",
        "\n",
        "history = model.fit(X_train, y_train, epochs=20, \n",
        "                    validation_data=(X_test, y_test), callbacks=[early_stop])"
      ],
      "metadata": {
        "id": "YwXFGlxCgN6d"
      },
      "execution_count": null,
      "outputs": []
    },
    {
      "cell_type": "code",
      "source": [
        "#Overall test accuracy of model\n",
        "evaluation = model.evaluate(X_test, y_test)\n",
        "print(f'Test Accuracy : {evaluation[1] * 100:.2f}%')"
      ],
      "metadata": {
        "id": "9ZPgYaPigN02"
      },
      "execution_count": null,
      "outputs": []
    },
    {
      "cell_type": "code",
      "source": [
        "#Evaluate Model\n",
        "plt.plot(history.history['accuracy'], label='accuracy')\n",
        "plt.plot(history.history['val_accuracy'], label = 'val_accuracy')\n",
        "plt.xlabel('Epoch')\n",
        "plt.ylabel('Accuracy')\n",
        "plt.ylim([0.5, 1])\n",
        "plt.legend(loc='lower right')\n",
        "\n",
        "test_loss, test_acc = model.evaluate(X_test,  y_test, verbose=2)"
      ],
      "metadata": {
        "id": "hS5VAl0tgNvn"
      },
      "execution_count": null,
      "outputs": []
    },
    {
      "cell_type": "code",
      "source": [
        "#Confusion Matrix\n",
        "y_pred = model.predict(X_test)\n",
        "y_pred = py.argmax(y_pred, axis=1)\n",
        "cm = confusion_matrix(y_test, y_pred)"
      ],
      "metadata": {
        "id": "Y6gKg65WgNsW"
      },
      "execution_count": null,
      "outputs": []
    },
    {
      "cell_type": "code",
      "source": [
        "#Confusion Matrix\n",
        "labels=['healthy','nematodes']\n",
        "disp = ConfusionMatrixDisplay(confusion_matrix=cm,\n",
        "                              display_labels=labels)\n",
        "\n",
        "\n",
        "# NOTE: Fill all variables here with default values of the plot_confusion_matrix\n",
        "fig, ax = plt.subplots(figsize=(2, 2))\n",
        "disp = disp.plot(xticks_rotation='vertical', ax=ax,cmap='summer')\n",
        "\n",
        "plt.show()"
      ],
      "metadata": {
        "id": "8Vz9IukzgNiw"
      },
      "execution_count": null,
      "outputs": []
    }
  ]
}